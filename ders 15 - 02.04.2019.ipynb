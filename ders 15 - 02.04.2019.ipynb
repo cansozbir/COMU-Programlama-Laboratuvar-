{
 "cells": [
  {
   "cell_type": "code",
   "execution_count": 1,
   "metadata": {},
   "outputs": [],
   "source": [
    "import math"
   ]
  },
  {
   "cell_type": "markdown",
   "metadata": {},
   "source": [
    "### LISTE STRING SEARCH\n",
    "\n",
    "\n",
    "Bir fonksiyona iki parametre aktariliyor (text, string)\n",
    "\n",
    "\n",
    "a) String , text te var ise True, yok ise False donderen fonksiyon yaziniz.\n",
    "\n",
    "\n",
    "       orn:  'Onsekiz Mart Universitesi', 'art'  icin True dondurmelidir\n",
    "       \n",
    "       \n",
    "b) Eger bu string bulunursa textin icersinde. Bulundugu ilk konumu return eden fonksiyon yaziniz.\n",
    "\n",
    "\n",
    "       orn: yukaridaki ornek icin T,10,12 dondurmeli  , aralik seklinde.\n",
    "\n",
    "\n",
    "c) Ikinci gonderilen parametre birinci parametrede n defa bulunuyorsa, bulundugu yerlerin baslangic indislerini liste halinde geri donduren fonksiyon yaziniz.\n",
    "\n",
    "\n",
    "       orn: 'n' yi arayinda  [2, 15, ..] dondurmeli\n",
    "     "
   ]
  },
  {
   "cell_type": "code",
   "execution_count": 2,
   "metadata": {},
   "outputs": [
    {
     "data": {
      "text/plain": [
       "(True, 15, 20)"
      ]
     },
     "execution_count": 2,
     "metadata": {},
     "output_type": "execute_result"
    }
   ],
   "source": [
    "def string_search (text, string):\n",
    "     return string in text, text.find(string), text.find(string)+len(string)-1\n",
    "\n",
    "def complete_string_search(text, string):\n",
    "    indices = []\n",
    "    while string in text:\n",
    "        indice = text.find(string)\n",
    "        indices.append(indice)\n",
    "        text = text[indice+len(string)-1:]\n",
    "    return indices\n",
    "\n",
    "string_search('Onsekiz Mart Universitesi', 'iversi')\n",
    "\n",
    "#complete_string_search('Onsekiz Mart Universitesi Mart Ayi Icersinde', 'Mart')"
   ]
  },
  {
   "cell_type": "markdown",
   "metadata": {},
   "source": [
    "### PALINDROME\n",
    "\n",
    "Tersten okunusu ayni olan kelimeleri test eden bir fonksiyon yaziniz.(True / False)"
   ]
  },
  {
   "cell_type": "code",
   "execution_count": 3,
   "metadata": {},
   "outputs": [
    {
     "name": "stdout",
     "output_type": "stream",
     "text": [
      "True\n",
      "False\n"
     ]
    }
   ],
   "source": [
    "def is_palindrome(word):\n",
    "    return word == word[::-1]\n",
    "print(is_palindrome('WOW'))\n",
    "print(is_palindrome('CANSOZBIR'))"
   ]
  },
  {
   "cell_type": "markdown",
   "metadata": {},
   "source": [
    "### MATRIS ISLEMLERI\n",
    "\n",
    "a) nxn tane karakteri nxn matrise atayan bir fonksiyon yaziniz.\n",
    "\n",
    "\n",
    "b) Kendisine aktarilan bir kelimeyi bu matris uzerinde soldan saga, sagdan sola, yukaridan assagiya, assagidan yukariya dogrultularinda arayip olup olmadigini kontrol edip donduren bir fonksiyon yaziniz. (capraz da ekle)"
   ]
  },
  {
   "cell_type": "code",
   "execution_count": 4,
   "metadata": {},
   "outputs": [
    {
     "data": {
      "text/plain": [
       "[['C', 'A', 'N'], ['S', 'O', 'Z'], ['B', 'I', 'R']]"
      ]
     },
     "execution_count": 4,
     "metadata": {},
     "output_type": "execute_result"
    }
   ],
   "source": [
    "from math import sqrt\n",
    "def char_to_matrix(word):\n",
    "    n = sqrt(len(word))\n",
    "    if n != int(n):\n",
    "        return -1\n",
    "    n = int(n)\n",
    "    matrix = [[word[n*i+j] for j in range(n)]for i in range(n)]\n",
    "    return matrix\n",
    "char_to_matrix('CANSOZBIR')"
   ]
  },
  {
   "cell_type": "markdown",
   "metadata": {},
   "source": [
    "Kendisine aktarilan bir listedeki sayilarin ortalamasini, standart sapmasini return eden bir fonksiyon yaziniz."
   ]
  },
  {
   "cell_type": "code",
   "execution_count": 5,
   "metadata": {},
   "outputs": [
    {
     "data": {
      "text/plain": [
       "3.0276503540974917"
      ]
     },
     "execution_count": 5,
     "metadata": {},
     "output_type": "execute_result"
    }
   ],
   "source": [
    "def standart_sapma(liste):\n",
    "    ort = sum(liste)/len(liste)\n",
    "    sum_list = 0\n",
    "    for x in liste:\n",
    "        sum_list += (x-ort)**2\n",
    "    return math.sqrt(sum_list/(len(liste)-1))\n",
    "standart_sapma(range(10))"
   ]
  },
  {
   "cell_type": "markdown",
   "metadata": {},
   "source": [
    "Verilen matrisin determinantini bulunuz."
   ]
  },
  {
   "cell_type": "code",
   "execution_count": 6,
   "metadata": {},
   "outputs": [],
   "source": [
    "def del_col(A,col):\n",
    "    newMatrix = []\n",
    "    for i in range (len(A)):\n",
    "        newMatrix.append([])\n",
    "        for j in range(len(A[i])):\n",
    "            if j != col:\n",
    "                newMatrix[i].append(A[i][j])\n",
    "    return newMatrix"
   ]
  },
  {
   "cell_type": "code",
   "execution_count": 7,
   "metadata": {},
   "outputs": [
    {
     "data": {
      "text/plain": [
       "-21"
      ]
     },
     "execution_count": 7,
     "metadata": {},
     "output_type": "execute_result"
    }
   ],
   "source": [
    "def det(A):\n",
    "    sum_det = 0\n",
    "    if len(A)==2:\n",
    "        return A[0][0]*A[1][1] - A[1][0]*A[0][1]\n",
    "    for i in range (len(A[0])):\n",
    "        sum_det += ((-1)**(i+2))*A[0][i]*det(del_col(A[1:],i))\n",
    "    return sum_det\n",
    "\n",
    "A = [[1,2,3],[4,8,9],[4,1,7]]\n",
    "det(A)"
   ]
  },
  {
   "cell_type": "markdown",
   "metadata": {},
   "source": [
    "Verilen matris tekil midir donduren fonksiyon yaziniz (singular)"
   ]
  },
  {
   "cell_type": "code",
   "execution_count": 8,
   "metadata": {},
   "outputs": [
    {
     "data": {
      "text/plain": [
       "True"
      ]
     },
     "execution_count": 8,
     "metadata": {},
     "output_type": "execute_result"
    }
   ],
   "source": [
    "def is_singular(matrix):\n",
    "    return det(matrix)==0\n",
    "\n",
    "is_singular([[1,0],[1,0]])"
   ]
  },
  {
   "cell_type": "markdown",
   "metadata": {},
   "source": [
    "Verilen matrisi esolon forma ceviren fonksiyon yaziniz."
   ]
  },
  {
   "cell_type": "code",
   "execution_count": 9,
   "metadata": {},
   "outputs": [],
   "source": [
    "def esolon (m):\n",
    "    pass\n",
    "            "
   ]
  },
  {
   "cell_type": "markdown",
   "metadata": {},
   "source": [
    "Bir matriste satir ve sutunlarinin toplami en kucuk/en buyuk olan satir ve sutunlarini bulunuz."
   ]
  },
  {
   "cell_type": "code",
   "execution_count": 10,
   "metadata": {},
   "outputs": [
    {
     "name": "stdout",
     "output_type": "stream",
     "text": [
      "max row: [4, 5]\n",
      "max col: [[2], [5]]\n"
     ]
    }
   ],
   "source": [
    "def max_row(matrix):\n",
    "    row_sum = sum(matrix[0])\n",
    "    maximum = 0\n",
    "    for row in matrix:\n",
    "        if sum(row) > row_sum:\n",
    "            maximum=row\n",
    "            \n",
    "    return maximum\n",
    "\n",
    "def get_col(matrix, colNo):\n",
    "    col = []\n",
    "    for i in range (len(matrix)):\n",
    "        col.append([matrix[i][colNo]])\n",
    "    return col\n",
    "\n",
    "def max_col(matrix):\n",
    "    maxCol = []\n",
    "    maxSum = 0\n",
    "    for i in range(len(matrix)):\n",
    "        col = get_col(matrix,i)\n",
    "        tempSum = sum([row[0] for row in matrix ]) \n",
    "        if tempSum > maxSum:\n",
    "            maxSum = tempSum\n",
    "            maxCol = col\n",
    "    return col\n",
    "        \n",
    "    \n",
    "A = [[1,2],[4,5]]\n",
    "print('max row:', max_row(A))\n",
    "print('max col:', max_col(A))"
   ]
  },
  {
   "cell_type": "markdown",
   "metadata": {},
   "source": [
    "Bir matriste kac tane sifir oldugunu (oranini) bulan fonksiyon yaziniz."
   ]
  },
  {
   "cell_type": "code",
   "execution_count": 11,
   "metadata": {},
   "outputs": [
    {
     "data": {
      "text/plain": [
       "0.2222222222222222"
      ]
     },
     "execution_count": 11,
     "metadata": {},
     "output_type": "execute_result"
    }
   ],
   "source": [
    "def count_zeros(matrix):\n",
    "    counter = 0\n",
    "    for row in matrix:\n",
    "        counter += row.count(0)\n",
    "    return counter/(len(matrix)*len(matrix[0]))\n",
    "\n",
    "deneme = [[1,2,0],[0,1,2],[1,2,3]]\n",
    "count_zeros(deneme)"
   ]
  },
  {
   "cell_type": "markdown",
   "metadata": {},
   "source": [
    "Matristeki sifir orani %30 un altinda ise bu matrisi 2 boyutlu listeden bir hash yapisina aktariniz."
   ]
  },
  {
   "cell_type": "code",
   "execution_count": 28,
   "metadata": {},
   "outputs": [
    {
     "name": "stdout",
     "output_type": "stream",
     "text": [
      "1 9 7 4 4 \n",
      "6 9 2 2 7 \n",
      "0 7 1 1 5 \n",
      "5 3 6 0 10 \n",
      "  \n",
      "1 9 7 4 4 6 9 2 2 7 0 7 1 1 5 5 3 6 0 10 "
     ]
    }
   ],
   "source": [
    "from random import randint\n",
    "def create (m:int, n:int):\n",
    "    return [[randint(0,10) for j in range(n)] for i in range(m)]\n",
    "\n",
    "def print_array(my_list):\n",
    "    for row in my_list:\n",
    "        for element in row:\n",
    "            print(element, end = ' ')\n",
    "        print()\n",
    "            \n",
    "def convert_to_hash(my_list):\n",
    "    my_dict = {}\n",
    "    if count_zeros(my_list) < 0.3:\n",
    "        for i in range(len(my_list)):\n",
    "            for j in range(len(my_list[i])):\n",
    "                my_dict[(i, j)] = my_list[i][j]\n",
    "        return my_dict\n",
    "    else:\n",
    "        print('HASH DONUSUMU YAPILMADI')\n",
    "        return my_list\n",
    "\n",
    "                        \n",
    "def print_hash(my_hash_list):\n",
    "    print ('  ')\n",
    "    for key in my_hash_list:\n",
    "        print(my_hash_list[key], end = ' ')\n",
    "\n",
    "array = create(4,5)\n",
    "print_array(array)\n",
    "array = convert_to_hash(array)\n",
    "\n",
    "if type(array) != list:\n",
    "    print_hash(array)\n",
    "else:\n",
    "    print (array)\n"
   ]
  },
  {
   "cell_type": "markdown",
   "metadata": {},
   "source": [
    "0 lar bol oldugu icin hash yapisi ile olusturulmus matrisi iki boyutlu listeye aktariniz."
   ]
  },
  {
   "cell_type": "code",
   "execution_count": 13,
   "metadata": {},
   "outputs": [
    {
     "data": {
      "text/plain": [
       "[[9, 0, 4, 10, 0], [6, 1, 1, 7, 9], [9, 3, 1, 5, 1], [9, 5, 4, 0, 8]]"
      ]
     },
     "execution_count": 13,
     "metadata": {},
     "output_type": "execute_result"
    }
   ],
   "source": [
    "def convert_to_list(hashdict):\n",
    "    matrix = [[0 for j in range(5)]for i in range (4)]\n",
    "    for key, value in hashdict.items():\n",
    "        matrix[key[0]][key[1]] = value\n",
    "    return matrix\n",
    "\n",
    "convert_to_list(array)"
   ]
  },
  {
   "cell_type": "markdown",
   "metadata": {},
   "source": [
    "### KOK HESAPLAMA"
   ]
  },
  {
   "cell_type": "markdown",
   "metadata": {},
   "source": [
    "bir formul var epsilon yardimiyla bir dongu ile bir sayinin kokunu hesapliyoruz.\n",
    "e^10 da ayni sekilde bir seri var sonsuza giden. O formulu sana veriyor hoca. Sen 20 terime kadar olan hassasiyetle e , pi yi vs hesaplatabilir sinavda."
   ]
  },
  {
   "cell_type": "code",
   "execution_count": 14,
   "metadata": {},
   "outputs": [
    {
     "data": {
      "text/plain": [
       "3.0"
      ]
     },
     "execution_count": 14,
     "metadata": {},
     "output_type": "execute_result"
    }
   ],
   "source": [
    "def my_sqrt(sayi):\n",
    "    epsilon = 1e-15\n",
    "    t = sayi\n",
    "    while abs(t - sayi/t) > epsilon*t:\n",
    "        t = (sayi/t + t) / 2.0\n",
    "    return t\n",
    "my_sqrt(9)"
   ]
  },
  {
   "cell_type": "markdown",
   "metadata": {},
   "source": [
    "### HASH\n",
    "\n",
    "hash yapisi ile gosterilen matrislere ait toplama, cikarma, carpma islemlerini yapan fonksiyonlari yaziniz."
   ]
  },
  {
   "cell_type": "code",
   "execution_count": 15,
   "metadata": {},
   "outputs": [
    {
     "name": "stdout",
     "output_type": "stream",
     "text": [
      "  \n",
      "0 7 4 10 7 6 4 9 6 3 0 7   \n",
      "3 10 6 7 2 4 7 6 7 5 9 0 \n",
      "______________________________+\n",
      "  \n",
      "3 17 10 17 9 10 11 15 13 8 9 7 "
     ]
    }
   ],
   "source": [
    "hash1 = convert_to_hash(create(3,4))\n",
    "hash2 = convert_to_hash(create(3,4))\n",
    "\n",
    "def hash_toplama(hash1, hash2):\n",
    "    hash3 = {}\n",
    "    for key in hash1:\n",
    "        hash3[(key[0], key[1])] = hash1[(key[0], key[1])] + hash2[(key[0], key[1])]\n",
    "    return hash3\n",
    "\n",
    "hash3 = hash_toplama(hash1, hash2)\n",
    "print_hash(hash1)\n",
    "print_hash(hash2)\n",
    "print('\\n'+'_'*30+'+')\n",
    "print_hash(hash3)"
   ]
  }
 ],
 "metadata": {
  "kernelspec": {
   "display_name": "Python 3",
   "language": "python",
   "name": "python3"
  },
  "language_info": {
   "codemirror_mode": {
    "name": "ipython",
    "version": 3
   },
   "file_extension": ".py",
   "mimetype": "text/x-python",
   "name": "python",
   "nbconvert_exporter": "python",
   "pygments_lexer": "ipython3",
   "version": "3.6.8"
  }
 },
 "nbformat": 4,
 "nbformat_minor": 2
}
