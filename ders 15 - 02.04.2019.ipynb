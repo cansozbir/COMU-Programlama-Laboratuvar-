{
 "cells": [
  {
   "cell_type": "code",
   "execution_count": 81,
   "metadata": {},
   "outputs": [],
   "source": [
    "import math"
   ]
  },
  {
   "cell_type": "markdown",
   "metadata": {},
   "source": [
    "### LISTE STRING SEARCH\n",
    "\n",
    "\n",
    "Bir fonksiyona iki parametre aktariliyor (text, string)\n",
    "\n",
    "\n",
    "a) String , text te var ise True, yok ise False donderen fonksiyon yaziniz.\n",
    "\n",
    "\n",
    "       orn:  'Onsekiz Mart Universitesi', 'art'  icin True dondurmelidir\n",
    "       \n",
    "       \n",
    "b) Eger bu string bulunursa textin icersinde. Bulundugu ilk konumu return eden fonksiyon yaziniz.\n",
    "\n",
    "\n",
    "       orn: yukaridaki ornek icin T,10,12 dondurmeli  , aralik seklinde.\n",
    "\n",
    "\n",
    "c) Ikinci gonderilen parametre birinci parametrede n defa bulunuyorsa, bulundugu yerlerin baslangic indislerini liste halinde geri donduren fonksiyon yaziniz.\n",
    "\n",
    "\n",
    "       orn: 'n' yi arayinda  [2, 15, ..] dondurmeli\n",
    "     "
   ]
  },
  {
   "cell_type": "code",
   "execution_count": 48,
   "metadata": {},
   "outputs": [
    {
     "data": {
      "text/plain": [
       "[8, 15]"
      ]
     },
     "execution_count": 48,
     "metadata": {},
     "output_type": "execute_result"
    }
   ],
   "source": [
    "def string_search (text, string):\n",
    "    found = string in text\n",
    "    if found:\n",
    "        return found, text.find(string), text.find(string)+len(string)-1\n",
    "    else:\n",
    "        return found, -1, -1\n",
    "\n",
    "def complete_string_search(text, string):\n",
    "    indices = []\n",
    "    while string in text:\n",
    "        indice = text.find(string)\n",
    "        indices.append(indice)\n",
    "        text = text[indice+len(string)-1:]\n",
    "    return indices\n",
    "\n",
    "#string_search('Onsekiz Mart Universitesi', 'iversi')\n",
    "complete_string_search('Onsekiz Mart Universitesi Mart Ayi Icersinde', 'Mart')"
   ]
  },
  {
   "cell_type": "markdown",
   "metadata": {},
   "source": [
    "### PALINDROME\n",
    "\n",
    "Tersten okunusu ayni olan kelimeleri test eden bir fonksiyon yaziniz.(True / False)"
   ]
  },
  {
   "cell_type": "code",
   "execution_count": 49,
   "metadata": {},
   "outputs": [
    {
     "name": "stdout",
     "output_type": "stream",
     "text": [
      "True\n",
      "False\n"
     ]
    }
   ],
   "source": [
    "def is_palindrome(word):\n",
    "    return word == word[::-1]\n",
    "print(is_palindrome('WOW'))\n",
    "print(is_palindrome('CANSOZBIR'))"
   ]
  },
  {
   "cell_type": "markdown",
   "metadata": {},
   "source": [
    "### MATRIS ISLEMLERI\n",
    "\n",
    "a) nxn tane karakteri nxn matrise atayan bir fonksiyon yaziniz.\n",
    "\n",
    "\n",
    "b) Kendisine aktarilan bir kelimeyi bu matris uzerinde soldan saga, sagdan sola, yukaridan assagiya, assagidan yukariya dogrultularinda arayip olup olmadigini kontrol edip donduren bir fonksiyon yaziniz. (capraz da ekle)"
   ]
  },
  {
   "cell_type": "code",
   "execution_count": 40,
   "metadata": {},
   "outputs": [
    {
     "data": {
      "text/plain": [
       "[['C', 'A', 'N'], ['S', 'O', 'Z'], ['B', 'I', 'R']]"
      ]
     },
     "execution_count": 40,
     "metadata": {},
     "output_type": "execute_result"
    }
   ],
   "source": [
    "from math import sqrt\n",
    "def char_to_matrix(word):\n",
    "    n = sqrt(len(word))\n",
    "    if n != int(n):\n",
    "        return -1\n",
    "    n = int(n)\n",
    "    matrix = [[word[n*i+j] for j in range(n)]for i in range(n)]\n",
    "    return matrix\n",
    "char_to_matrix('CANSOZBIR')"
   ]
  },
  {
   "cell_type": "markdown",
   "metadata": {},
   "source": [
    "Kendisine aktarilan bir listedeki sayilarin ortalamasini, standart sapmasini return eden bir fonksiyon yaziniz."
   ]
  },
  {
   "cell_type": "code",
   "execution_count": 80,
   "metadata": {},
   "outputs": [
    {
     "data": {
      "text/plain": [
       "3.0276503540974917"
      ]
     },
     "execution_count": 80,
     "metadata": {},
     "output_type": "execute_result"
    }
   ],
   "source": [
    "def standart_sapma(liste):\n",
    "    ort = sum(liste)/len(liste)\n",
    "    sum_list = 0\n",
    "    for x in liste:\n",
    "        sum_list += (x-ort)**2\n",
    "    return math.sqrt(sum_list/(len(liste)-1))\n",
    "standart_sapma(range(10))"
   ]
  },
  {
   "cell_type": "markdown",
   "metadata": {},
   "source": [
    "Verilen matrisin determinantini bulunuz."
   ]
  },
  {
   "cell_type": "code",
   "execution_count": 107,
   "metadata": {},
   "outputs": [],
   "source": [
    "def del_col(A,col):\n",
    "    newMatrix = []\n",
    "    for i in range (len(A)):\n",
    "        newMatrix.append([])\n",
    "        for j in range(len(A[i])):\n",
    "            if j != col:\n",
    "                newMatrix[i].append(A[i][j])\n",
    "    return newMatrix"
   ]
  },
  {
   "cell_type": "code",
   "execution_count": 112,
   "metadata": {},
   "outputs": [
    {
     "data": {
      "text/plain": [
       "-21"
      ]
     },
     "execution_count": 112,
     "metadata": {},
     "output_type": "execute_result"
    }
   ],
   "source": [
    "def det(A):\n",
    "    sum_det = 0\n",
    "    if len(A)==2:\n",
    "        return A[0][0]*A[1][1] - A[1][0]*A[0][1]\n",
    "    for i in range (len(A[0])):\n",
    "        sum_det += ((-1)**(i+2))*A[0][i]*det(del_col(A[1:],i))\n",
    "    return sum_det\n",
    "A = [[1,2,3],[4,8,9],[4,1,7]]\n",
    "det(A)"
   ]
  },
  {
   "cell_type": "markdown",
   "metadata": {},
   "source": [
    "Verilen matris tekil midir donduren fonksiyon yaziniz (singular)"
   ]
  },
  {
   "cell_type": "code",
   "execution_count": 113,
   "metadata": {},
   "outputs": [
    {
     "data": {
      "text/plain": [
       "True"
      ]
     },
     "execution_count": 113,
     "metadata": {},
     "output_type": "execute_result"
    }
   ],
   "source": [
    "def is_singular(matrix):\n",
    "    if det(matrix)==0:\n",
    "        return True\n",
    "    else:\n",
    "        return False\n",
    "B = [[1,0],[1,0]]\n",
    "is_singular(B)"
   ]
  },
  {
   "cell_type": "markdown",
   "metadata": {},
   "source": [
    "Verilen matrisi esolon forma ceviren fonksiyon yaziniz."
   ]
  },
  {
   "cell_type": "code",
   "execution_count": null,
   "metadata": {},
   "outputs": [],
   "source": []
  },
  {
   "cell_type": "markdown",
   "metadata": {},
   "source": [
    "Bir matriste satir ve sutunlarinin toplami en kucuk/en buyuk olan satir ve sutunlarini bulunuz."
   ]
  },
  {
   "cell_type": "code",
   "execution_count": 5,
   "metadata": {},
   "outputs": [
    {
     "data": {
      "text/plain": [
       "[4, 5]"
      ]
     },
     "execution_count": 5,
     "metadata": {},
     "output_type": "execute_result"
    }
   ],
   "source": [
    "def max_row(matrix):\n",
    "    row_sum = sum(matrix[0])\n",
    "    maximum = 0\n",
    "    \n",
    "    for row in matrix:\n",
    "        if sum(row) > row_sum:\n",
    "            maximum=row\n",
    "            \n",
    "    return maximum\n",
    "\n",
    "def get_col(matrix, col):\n",
    "    \n",
    "    \n",
    "A = [[1,2],[4,5]]\n",
    "max_row(A)"
   ]
  },
  {
   "cell_type": "markdown",
   "metadata": {},
   "source": [
    "Bir matriste kac tane sifir oldugunu (oranini) bulan fonksiyon yaziniz."
   ]
  },
  {
   "cell_type": "code",
   "execution_count": null,
   "metadata": {},
   "outputs": [],
   "source": []
  },
  {
   "cell_type": "markdown",
   "metadata": {},
   "source": [
    "Matristeki sifir orani %30 un altinda ise bu matrisi 2 boyutlu listeden bir hash yapisina aktariniz."
   ]
  },
  {
   "cell_type": "code",
   "execution_count": null,
   "metadata": {},
   "outputs": [],
   "source": []
  },
  {
   "cell_type": "markdown",
   "metadata": {},
   "source": [
    "0 lar bol oldugu icin hash yapisi ile olusturulmus matrisi iki boyutlu listeye aktariniz."
   ]
  },
  {
   "cell_type": "code",
   "execution_count": null,
   "metadata": {},
   "outputs": [],
   "source": []
  },
  {
   "cell_type": "markdown",
   "metadata": {},
   "source": [
    "### HASH - LISTE DONUSUMU\n",
    "- bir txt alip her bir kelimenin frekansini bulduk.\n",
    "- sonra w1, w2 olarak ikililerin frekansini bulmustuk.\n",
    "- Bunlar hash yapisinda saklanmisti.\n",
    "- Bu hash yapisini listeye aktaran fonksiyon yaziniz.\n"
   ]
  },
  {
   "cell_type": "code",
   "execution_count": 50,
   "metadata": {},
   "outputs": [
    {
     "name": "stdout",
     "output_type": "stream",
     "text": [
      "3 4 4 8 5 \n",
      "7 8 6 9 10 \n",
      "1 0 10 7 5 \n",
      "7 6 7 2 5 \n",
      "  \n",
      "3 4 4 8 5 7 8 6 9 10 1 0 10 7 5 7 6 7 2 5 "
     ]
    }
   ],
   "source": [
    "from random import randint\n",
    "\n",
    "def create (m:int, n:int):\n",
    "    return [[randint(0,10) for j in range(n)] for i in range(m)]\n",
    "\n",
    "def print_array(my_list):\n",
    "    for row in my_list:\n",
    "        for element in row:\n",
    "            print(element, end = ' ')\n",
    "        print()\n",
    "            \n",
    "def convert_to_hash(my_list):\n",
    "    my_dict = {}\n",
    "    for i in range(len(my_list)):\n",
    "        for j in range(len(my_list[i])):\n",
    "            my_dict[(i, j)] = my_list[i][j]\n",
    "    return my_dict\n",
    "                        \n",
    "def print_hash(my_hash_list):\n",
    "    print ('  ')\n",
    "    for key in my_hash_list:\n",
    "        print(my_hash_list[key], end = ' ')\n",
    "\n",
    "array = create(4,5)\n",
    "print_array(array)\n",
    "array = convert_to_hash(array)\n",
    "print_hash(array)\n"
   ]
  },
  {
   "cell_type": "markdown",
   "metadata": {},
   "source": [
    "### KOK HESAPLAMA"
   ]
  },
  {
   "cell_type": "markdown",
   "metadata": {},
   "source": [
    "bir formul var epsilon yardimiyla bir dongu ile bir sayinin kokunu hesapliyoruz.\n",
    "e^10 da ayni sekilde bir seri var sonsuza giden. O formulu sana veriyor hoca. Sen 20 terime kadar olan hassasiyetle e , pi yi vs hesaplatabilir sinavda."
   ]
  },
  {
   "cell_type": "code",
   "execution_count": null,
   "metadata": {},
   "outputs": [],
   "source": []
  },
  {
   "cell_type": "markdown",
   "metadata": {},
   "source": [
    "### HASH\n",
    "\n",
    "hash yapisi ile gosterilen matrislere ait toplama, cikarma, carpma islemlerini yapan fonksiyonlari yaziniz."
   ]
  },
  {
   "cell_type": "code",
   "execution_count": null,
   "metadata": {},
   "outputs": [],
   "source": []
  }
 ],
 "metadata": {
  "kernelspec": {
   "display_name": "Python 3",
   "language": "python",
   "name": "python3"
  },
  "language_info": {
   "codemirror_mode": {
    "name": "ipython",
    "version": 3
   },
   "file_extension": ".py",
   "mimetype": "text/x-python",
   "name": "python",
   "nbconvert_exporter": "python",
   "pygments_lexer": "ipython3",
   "version": "3.6.8"
  }
 },
 "nbformat": 4,
 "nbformat_minor": 2
}
