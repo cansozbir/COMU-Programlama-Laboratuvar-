{
 "cells": [
  {
   "cell_type": "markdown",
   "metadata": {},
   "source": [
    "## AGAC YAPISI"
   ]
  },
  {
   "cell_type": "code",
   "execution_count": 1,
   "metadata": {},
   "outputs": [],
   "source": [
    "class Node(object):\n",
    "    def __init__(self, v=0):\n",
    "        self.value = v\n",
    "        self.left = None\n",
    "        self.right = None "
   ]
  },
  {
   "cell_type": "code",
   "execution_count": 2,
   "metadata": {},
   "outputs": [],
   "source": [
    "class Tree(object):\n",
    "    def __init__(self):\n",
    "        self.root = Node(250)\n",
    "        \n",
    "    def insert(self, node_1):\n",
    "        iter = ''\n",
    "        if self.root.value > node_1.value :\n",
    "            self.root.left = node_1\n",
    "        elif self.root.value < node_1.value :\n",
    "            self.root.right = node_1\n",
    "        else:\n",
    "            print('Duplicate error')\n",
    "    \n",
    "    def search(self, node):\n",
    "        pass\n",
    "    \n",
    "    def remove(self, node):\n",
    "        pass\n",
    "    \n",
    "    def printTree(self):\n",
    "        Tree.printHelper(self.root)\n",
    "    \n",
    "    def printHelper(node):\n",
    "        if node.left != None:\n",
    "            Tree.printHelper(node.left)\n",
    "        print(node.value)\n",
    "        if node.right != None:\n",
    "            Tree.printHelper(node.right)"
   ]
  },
  {
   "cell_type": "code",
   "execution_count": 3,
   "metadata": {},
   "outputs": [],
   "source": [
    "tree_1 = Tree()  # root = 250\n",
    "tree_1.insert(Node(-100))\n",
    "tree_1.insert(Node(100))\n",
    "tree_1.insert(Node(200))\n",
    "tree_1.insert(Node(50))\n",
    "tree_1.insert(Node(30))\n",
    "tree_1.insert(Node(160))\n",
    "# print(tree_1.root.value)\n",
    "# print(tree_1.root.left.value)\n",
    "# print(tree_1.root.right.value)"
   ]
  },
  {
   "cell_type": "code",
   "execution_count": 4,
   "metadata": {},
   "outputs": [
    {
     "name": "stdout",
     "output_type": "stream",
     "text": [
      "160\n",
      "250\n"
     ]
    }
   ],
   "source": [
    "tree_1.printTree()   # L N R"
   ]
  }
 ],
 "metadata": {
  "kernelspec": {
   "display_name": "Python 3",
   "language": "python",
   "name": "python3"
  },
  "language_info": {
   "codemirror_mode": {
    "name": "ipython",
    "version": 3
   },
   "file_extension": ".py",
   "mimetype": "text/x-python",
   "name": "python",
   "nbconvert_exporter": "python",
   "pygments_lexer": "ipython3",
   "version": "3.6.8"
  }
 },
 "nbformat": 4,
 "nbformat_minor": 2
}
