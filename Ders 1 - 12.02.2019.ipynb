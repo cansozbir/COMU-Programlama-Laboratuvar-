{
 "cells": [
  {
   "cell_type": "markdown",
   "metadata": {},
   "source": [
    "# Sıralama algoritmaları\n",
    "    Bubble sort\n",
    "    Selection sort\n",
    "    Insertion sort\n",
    "    Quick sort\n",
    "    Heap sort\n",
    "    Merge sort \n",
    "\n"
   ]
  },
  {
   "cell_type": "markdown",
   "metadata": {},
   "source": [
    "### Boyutu n olan tek boyutlu bir dizi üretin."
   ]
  },
  {
   "cell_type": "code",
   "execution_count": 1,
   "metadata": {},
   "outputs": [],
   "source": [
    "import random"
   ]
  },
  {
   "cell_type": "code",
   "execution_count": 2,
   "metadata": {},
   "outputs": [],
   "source": [
    "def generate_array (n):\n",
    "    arr= []\n",
    "    for i in range (n): \n",
    "        arr.append(random.randint(0,100))\n",
    "    return arr"
   ]
  },
  {
   "cell_type": "code",
   "execution_count": 3,
   "metadata": {},
   "outputs": [],
   "source": [
    "arr = generate_array(100)"
   ]
  },
  {
   "cell_type": "markdown",
   "metadata": {},
   "source": [
    "### Bu diziyi bubble sort ile siralayiniz"
   ]
  },
  {
   "cell_type": "code",
   "execution_count": 4,
   "metadata": {},
   "outputs": [],
   "source": [
    "def bubble_sort(array):\n",
    "    for i in range (len(array)):\n",
    "        for j in range (len(array)-1):\n",
    "            if (array[j] > array[j+1]):\n",
    "                array[j],array[j+1]= array[j+1],array[j]\n",
    "    print(array)"
   ]
  },
  {
   "cell_type": "code",
   "execution_count": 5,
   "metadata": {},
   "outputs": [
    {
     "name": "stdout",
     "output_type": "stream",
     "text": [
      "[0, 0, 1, 2, 3, 3, 3, 4, 4, 4, 5, 5, 7, 7, 7, 10, 11, 12, 15, 16, 16, 17, 18, 20, 21, 21, 22, 23, 24, 24, 24, 25, 26, 27, 29, 29, 31, 32, 32, 32, 36, 38, 39, 42, 43, 44, 46, 47, 47, 47, 48, 50, 50, 50, 50, 51, 52, 55, 55, 58, 58, 59, 62, 64, 64, 66, 66, 67, 67, 69, 69, 69, 70, 71, 72, 75, 76, 78, 78, 80, 81, 82, 84, 85, 86, 87, 88, 89, 89, 89, 91, 92, 92, 94, 94, 94, 95, 96, 97, 98]\n"
     ]
    }
   ],
   "source": [
    "bubble_sort(arr)"
   ]
  },
  {
   "cell_type": "markdown",
   "metadata": {},
   "source": [
    "Dersteki örnek :"
   ]
  },
  {
   "cell_type": "code",
   "execution_count": 6,
   "metadata": {},
   "outputs": [
    {
     "name": "stdout",
     "output_type": "stream",
     "text": [
      "[33, 81, 42, 7, 4, 36, 51, 48, 8, 53, 49, 38, 87, 93, 67, 11, 22, 61, 100, 49, 68, 74, 67, 93, 91, 93, 50, 55, 27, 10, 97, 10, 57, 40, 30, 73, 91, 49, 44, 71, 62, 49, 76, 14, 89, 33, 4, 94, 80, 76, 18, 46, 28, 66, 99, 27, 60, 33, 8, 2, 33, 4, 74, 6, 21, 52, 34, 45, 62, 5, 43, 85, 78, 10, 34, 79, 30, 5, 29, 96, 38, 84, 29, 9, 23, 29, 23, 47, 46, 12, 90, 14, 77, 58, 9, 96, 37, 5, 49, 79]\n"
     ]
    }
   ],
   "source": [
    "my_array = generate_array(100)\n",
    "print(my_array)"
   ]
  },
  {
   "cell_type": "code",
   "execution_count": 7,
   "metadata": {},
   "outputs": [],
   "source": [
    "def bubble_sort_v2 (my_arr) :\n",
    "    for i in range (len(my_arr)-1, 0, -1) :\n",
    "        for j in range (i):\n",
    "            if (my_arr[j] > my_arr[j+1]):\n",
    "                t = my_arr[j]\n",
    "                my_arr[j] = my_arr[j+1]\n",
    "                my_arr[j+1] = t\n",
    "        "
   ]
  },
  {
   "cell_type": "code",
   "execution_count": 8,
   "metadata": {},
   "outputs": [
    {
     "name": "stdout",
     "output_type": "stream",
     "text": [
      "[2, 4, 4, 4, 5, 5, 5, 6, 7, 8, 8, 9, 9, 10, 10, 10, 11, 12, 14, 14, 18, 21, 22, 23, 23, 27, 27, 28, 29, 29, 29, 30, 30, 33, 33, 33, 33, 34, 34, 36, 37, 38, 38, 40, 42, 43, 44, 45, 46, 46, 47, 48, 49, 49, 49, 49, 49, 50, 51, 52, 53, 55, 57, 58, 60, 61, 62, 62, 66, 67, 67, 68, 71, 73, 74, 74, 76, 76, 77, 78, 79, 79, 80, 81, 84, 85, 87, 89, 90, 91, 91, 93, 93, 93, 94, 96, 96, 97, 99, 100]\n"
     ]
    }
   ],
   "source": [
    "bubble_sort_v2(my_array)\n",
    "print(my_array)"
   ]
  },
  {
   "cell_type": "code",
   "execution_count": 9,
   "metadata": {},
   "outputs": [],
   "source": [
    "#my_array.copy"
   ]
  },
  {
   "cell_type": "markdown",
   "metadata": {},
   "source": [
    "### Bu diziyi selection sort ile sıralayınız."
   ]
  },
  {
   "cell_type": "code",
   "execution_count": 75,
   "metadata": {},
   "outputs": [],
   "source": [
    "def selection_sort (arr):\n",
    "    for i in range (len(arr)-1): #selected\n",
    "        smallest =i\n",
    "        for j in range (i+1,len(arr)):\n",
    "            if (arr[j] < arr[smallest]):\n",
    "                smallest = j\n",
    "        arr[i],arr[smallest] = arr[smallest],arr[i]"
   ]
  },
  {
   "cell_type": "code",
   "execution_count": 76,
   "metadata": {},
   "outputs": [
    {
     "name": "stdout",
     "output_type": "stream",
     "text": [
      "[11, 31, 20, 22, 16, 61, 92, 66, 33, 80, 1, 7, 23, 46, 26, 26, 1, 57, 53, 72, 62, 74, 39, 41, 77, 70, 44, 18, 8, 50, 92, 5, 2, 90, 67, 88, 8, 59, 79, 100, 70, 66, 16, 49, 61, 30, 57, 3, 33, 70, 7, 32, 18, 82, 27, 34, 89, 73, 45, 62, 98, 17, 25, 73, 73, 100, 92, 21, 47, 47, 72, 59, 91, 21, 54, 61, 48, 60, 74, 36, 75, 34, 47, 96, 28, 4, 47, 54, 59, 47, 10, 78, 58, 81, 94, 19, 0, 14, 16, 50]\n"
     ]
    }
   ],
   "source": [
    "arr2 = generate_array(100) \n",
    "print(arr2)"
   ]
  },
  {
   "cell_type": "code",
   "execution_count": 77,
   "metadata": {},
   "outputs": [],
   "source": [
    "selection_sort(arr2)"
   ]
  },
  {
   "cell_type": "code",
   "execution_count": 78,
   "metadata": {
    "scrolled": true
   },
   "outputs": [
    {
     "name": "stdout",
     "output_type": "stream",
     "text": [
      "[0, 1, 1, 2, 3, 4, 5, 7, 7, 8, 8, 10, 11, 14, 16, 16, 16, 17, 18, 18, 19, 20, 21, 21, 22, 23, 25, 26, 26, 27, 28, 30, 31, 32, 33, 33, 34, 34, 36, 39, 41, 44, 45, 46, 47, 47, 47, 47, 47, 48, 49, 50, 50, 53, 54, 54, 57, 57, 58, 59, 59, 59, 60, 61, 61, 61, 62, 62, 66, 66, 67, 70, 70, 70, 72, 72, 73, 73, 73, 74, 74, 75, 77, 78, 79, 80, 81, 82, 88, 89, 90, 91, 92, 92, 92, 94, 96, 98, 100, 100]\n"
     ]
    }
   ],
   "source": [
    "print(arr2)"
   ]
  },
  {
   "cell_type": "markdown",
   "metadata": {},
   "source": [
    "### Dizi uzerinde arama islemi yapan fonksiyonu yaziniz."
   ]
  },
  {
   "cell_type": "code",
   "execution_count": 12,
   "metadata": {},
   "outputs": [],
   "source": [
    "def search (array, item) :\n",
    "    found = False\n",
    "    indis = -1\n",
    "    step = 0\n",
    "    for i in array:\n",
    "        if i == item:\n",
    "            found = True\n",
    "            indis = i\n",
    "            break\n",
    "        step += 1\n",
    "    return (found, indis, step)"
   ]
  },
  {
   "cell_type": "code",
   "execution_count": 13,
   "metadata": {},
   "outputs": [
    {
     "name": "stdout",
     "output_type": "stream",
     "text": [
      "my_array icerisinde 105 aramasinin sonucu : (False, -1, 100)\n",
      "my_array icerisinde 2 aramasinin sonucu : (True, 2, 0)\n"
     ]
    }
   ],
   "source": [
    "print('my_array icerisinde 105 aramasinin sonucu :', search (my_array , 105) )\n",
    "print('my_array icerisinde 2 aramasinin sonucu :', search (my_array , 2) )"
   ]
  },
  {
   "cell_type": "markdown",
   "metadata": {},
   "source": [
    "### Siralanmis dizi uzerinde binary search yapan fonksiyonu yaziniz."
   ]
  },
  {
   "cell_type": "code",
   "execution_count": 83,
   "metadata": {},
   "outputs": [],
   "source": [
    "def binary_search (arr,item) :\n",
    "    hamle= 0\n",
    "    alt  = 0\n",
    "    ust  = len(arr)\n",
    "    while (alt != ust) :\n",
    "        if (item < arr[int((alt+ust)/2)]):\n",
    "            ust=(alt+ust)/2\n",
    "            hamle += 1\n",
    "        elif (item > arr[int((alt+ust)/2)]):\n",
    "            alt=(alt+ust)/2\n",
    "            hamle += 1\n",
    "        else :\n",
    "            return (True , hamle )\n",
    "    return False\n",
    "        \n",
    "        \n",
    "    "
   ]
  },
  {
   "cell_type": "code",
   "execution_count": 88,
   "metadata": {},
   "outputs": [
    {
     "data": {
      "text/plain": [
       "False"
      ]
     },
     "execution_count": 88,
     "metadata": {},
     "output_type": "execute_result"
    }
   ],
   "source": [
    "binary_search(my_array , 1)"
   ]
  },
  {
   "cell_type": "code",
   "execution_count": 89,
   "metadata": {},
   "outputs": [
    {
     "data": {
      "text/plain": [
       "(True, 6)"
      ]
     },
     "execution_count": 89,
     "metadata": {},
     "output_type": "execute_result"
    }
   ],
   "source": [
    "binary_search(my_array, 2)"
   ]
  },
  {
   "cell_type": "code",
   "execution_count": null,
   "metadata": {},
   "outputs": [],
   "source": []
  }
 ],
 "metadata": {
  "kernelspec": {
   "display_name": "Python 3",
   "language": "python",
   "name": "python3"
  },
  "language_info": {
   "codemirror_mode": {
    "name": "ipython",
    "version": 3
   },
   "file_extension": ".py",
   "mimetype": "text/x-python",
   "name": "python",
   "nbconvert_exporter": "python",
   "pygments_lexer": "ipython3",
   "version": "3.6.8"
  }
 },
 "nbformat": 4,
 "nbformat_minor": 2
}
