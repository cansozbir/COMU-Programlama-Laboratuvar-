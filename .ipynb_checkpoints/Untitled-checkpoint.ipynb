{
 "cells": [
  {
   "cell_type": "markdown",
   "metadata": {},
   "source": [
    "## Iteratif ve recursive cozumlerin performans karsilastirmalari#\n",
    "\n",
    "* Fibonacci sayi dizisi uzerinde iteratif ve recursive cozumlerin performans karsilastirilmasi\n",
    "* Faktoriyel hesabi uzerinde iteratif ve recursive cozumlerin performans karsilastirilmasi\n",
    "* Ust alma islemi uzerinden iteratif ve recursive cozumlerin performans karsilastirilmasi"
   ]
  },
  {
   "cell_type": "markdown",
   "metadata": {},
   "source": [
    "##### Fibonacci sayi dizisi"
   ]
  },
  {
   "cell_type": "code",
   "execution_count": 49,
   "metadata": {},
   "outputs": [],
   "source": [
    "def fibonacci_loop (n):\n",
    "    a,b = 0,1\n",
    "    for i in range(n):\n",
    "        a,b = b, a+b\n",
    "    return a"
   ]
  },
  {
   "cell_type": "code",
   "execution_count": 50,
   "metadata": {},
   "outputs": [],
   "source": [
    "def fibonacci_recursive (n):\n",
    "    if n<2 :\n",
    "        return n\n",
    "    else :\n",
    "        return fibonacci_recursive(n-1) + fibonacci_recursive(n-2)"
   ]
  },
  {
   "cell_type": "code",
   "execution_count": 62,
   "metadata": {},
   "outputs": [
    {
     "name": "stdout",
     "output_type": "stream",
     "text": [
      "0 0\n",
      "1 1\n",
      "1 1\n",
      "2 2\n",
      "3 3\n",
      "5 5\n",
      "8 8\n",
      "13 13\n",
      "21 21\n",
      "34 34\n",
      "55 55\n",
      "89 89\n",
      "144 144\n",
      "233 233\n",
      "377 377\n",
      "610 610\n",
      "987 987\n",
      "1597 1597\n",
      "2584 2584\n",
      "4181 4181\n",
      "6765 6765\n",
      "10946 10946\n",
      "17711 17711\n",
      "28657 28657\n",
      "46368 46368\n",
      "75025 75025\n",
      "121393 121393\n",
      "196418 196418\n",
      "317811 317811\n",
      "514229 514229\n",
      "832040 832040\n",
      "1346269 1346269\n",
      "2178309 2178309\n",
      "3524578 3524578\n",
      "5702887 5702887\n",
      "9227465 9227465\n",
      "14930352 14930352\n",
      "24157817 24157817\n",
      "39088169 39088169\n",
      "63245986 63245986\n"
     ]
    }
   ],
   "source": [
    "for i in range(40) :\n",
    "    r_1 = fibonacci_loop(i)\n",
    "    r_2 = fibonacci_recursive (i)\n",
    "    print (r_1, r_2)\n"
   ]
  },
  {
   "cell_type": "markdown",
   "metadata": {},
   "source": [
    "Burada recursive ve loop cozumunun arasinda bir kritere gore tercihte bulunmalisiniz.\n",
    "\n",
    "Loop cozumunun performansi daha iyi iken recursive cozum daha okumasi ve anlamasi kolay bir kod getiriyor."
   ]
  },
  {
   "cell_type": "markdown",
   "metadata": {},
   "source": [
    "##### Faktoriyel hesabi"
   ]
  },
  {
   "cell_type": "code",
   "execution_count": 10,
   "metadata": {},
   "outputs": [],
   "source": [
    "def factorial (n):\n",
    "    s = 1\n",
    "    for i in range (1,n+1):\n",
    "        s = s*i\n",
    "    return s"
   ]
  },
  {
   "cell_type": "code",
   "execution_count": 11,
   "metadata": {},
   "outputs": [],
   "source": [
    "def factorial_recursive(n) :\n",
    "    if (n==1):\n",
    "        return n\n",
    "    else:\n",
    "        return n* factorial_recursive(n-1)"
   ]
  },
  {
   "cell_type": "code",
   "execution_count": null,
   "metadata": {},
   "outputs": [],
   "source": [
    "for i in range(10,100):\n",
    "    f1 , f2 = factorial(i), factorial_recursive(i)\n",
    "    print('factorial loop =',f1,' factorial_recursive=',f2)"
   ]
  },
  {
   "cell_type": "markdown",
   "metadata": {},
   "source": [
    "##### Ust hesaplama"
   ]
  },
  {
   "cell_type": "code",
   "execution_count": 12,
   "metadata": {},
   "outputs": [],
   "source": [
    "def power (m,n):\n",
    "    s = m\n",
    "    for i in range (1,n+1):\n",
    "        s = s*m\n",
    "    return s"
   ]
  },
  {
   "cell_type": "code",
   "execution_count": 13,
   "metadata": {},
   "outputs": [],
   "source": [
    "def power_recursive (m,n) :\n",
    "    if (n==0): \n",
    "        return 1\n",
    "    elif (n==1) :\n",
    "        return m\n",
    "    elif n//2 ==0 :\n",
    "        return power_recursive(m*m, n/2)\n",
    "    elif n//2 != 0:\n",
    "        return power_recursive(m*m,n/2)*m"
   ]
  },
  {
   "cell_type": "code",
   "execution_count": 61,
   "metadata": {},
   "outputs": [
    {
     "name": "stdout",
     "output_type": "stream",
     "text": [
      "6859 6859\n",
      "6859 6859\n"
     ]
    }
   ],
   "source": [
    "for i in range (1,3):\n",
    "    print(power(var,2), end=' ')\n",
    "    print(power_recursive(var,2))"
   ]
  },
  {
   "cell_type": "code",
   "execution_count": null,
   "metadata": {},
   "outputs": [],
   "source": []
  }
 ],
 "metadata": {
  "kernelspec": {
   "display_name": "Python 3",
   "language": "python",
   "name": "python3"
  },
  "language_info": {
   "codemirror_mode": {
    "name": "ipython",
    "version": 3
   },
   "file_extension": ".py",
   "mimetype": "text/x-python",
   "name": "python",
   "nbconvert_exporter": "python",
   "pygments_lexer": "ipython3",
   "version": "3.6.8"
  }
 },
 "nbformat": 4,
 "nbformat_minor": 2
}
