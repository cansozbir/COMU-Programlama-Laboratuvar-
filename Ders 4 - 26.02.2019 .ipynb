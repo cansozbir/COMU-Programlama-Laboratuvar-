{
 "cells": [
  {
   "cell_type": "markdown",
   "metadata": {},
   "source": [
    "## Kendisine aktarilan bir listenin frekans tablosunu geriye donduren fonksiyon yaziniz."
   ]
  },
  {
   "cell_type": "code",
   "execution_count": 7,
   "metadata": {},
   "outputs": [],
   "source": [
    "list  = [2,2,3,4,5,5,66,66,66,75,75,75,75,75,4,6,7,8,3,7,0]"
   ]
  },
  {
   "cell_type": "markdown",
   "metadata": {},
   "source": [
    "##### Dictionary yapisi ile benim kendi cozumum"
   ]
  },
  {
   "cell_type": "code",
   "execution_count": 14,
   "metadata": {},
   "outputs": [],
   "source": [
    "def frequency (list) : #returns a dictionary\n",
    "    freq_table = {}\n",
    "    for item in list :\n",
    "        frequency = 0\n",
    "        for item2 in list :\n",
    "            if item == item2:\n",
    "                frequency += 1\n",
    "        #freq_table.update ({item:frequency}) \n",
    "        freq_table[item]=frequency\n",
    "    return freq_table"
   ]
  },
  {
   "cell_type": "code",
   "execution_count": 39,
   "metadata": {},
   "outputs": [
    {
     "name": "stdout",
     "output_type": "stream",
     "text": [
      "{2: 2, 3: 2, 4: 2, 5: 2, 66: 3, 75: 5, 6: 1, 7: 2, 8: 1, 0: 1}\n"
     ]
    }
   ],
   "source": [
    "print(frequency(list))"
   ]
  },
  {
   "cell_type": "markdown",
   "metadata": {},
   "source": [
    "##### Dictionary yapisi ile derste verilen ornek kod"
   ]
  },
  {
   "cell_type": "code",
   "execution_count": 31,
   "metadata": {},
   "outputs": [],
   "source": [
    "def frequency_lec (list) : #returns a dictionary\n",
    "    freq_dict = {}\n",
    "    for item in list :\n",
    "        if (item in freq_dict):\n",
    "            freq_dict[item] = freq_dict[item]+1\n",
    "        else:\n",
    "            freq_dict[item] = 1\n",
    "    return freq_dict"
   ]
  },
  {
   "cell_type": "code",
   "execution_count": 41,
   "metadata": {},
   "outputs": [
    {
     "name": "stdout",
     "output_type": "stream",
     "text": [
      "{2: 2, 3: 2, 4: 2, 5: 2, 66: 3, 75: 5, 6: 1, 7: 2, 8: 1, 0: 1}\n"
     ]
    }
   ],
   "source": [
    "print(frequency_lec(list))"
   ]
  },
  {
   "cell_type": "markdown",
   "metadata": {},
   "source": [
    "##### Liste yapisi ile kendi cozumum"
   ]
  },
  {
   "cell_type": "code",
   "execution_count": 46,
   "metadata": {},
   "outputs": [],
   "source": [
    "def frequency_with_list (list): #returns a list\n",
    "    frequency_table = []\n",
    "    items = []\n",
    "    for item1 in list :\n",
    "        frequency = 0\n",
    "        if not (item1 in items) :\n",
    "            items.append(item1)\n",
    "            for item2 in list:\n",
    "                if item1 == item2 :\n",
    "                    frequency += 1\n",
    "            frequency_table.append((item1,frequency))\n",
    "    return frequency_table"
   ]
  },
  {
   "cell_type": "code",
   "execution_count": 48,
   "metadata": {
    "scrolled": true
   },
   "outputs": [
    {
     "name": "stdout",
     "output_type": "stream",
     "text": [
      "[(2, 2), (3, 2), (4, 2), (5, 2), (66, 3), (75, 5), (6, 1), (7, 2), (8, 1), (0, 1)]\n"
     ]
    }
   ],
   "source": [
    "print(frequency_with_list(list))"
   ]
  },
  {
   "cell_type": "markdown",
   "metadata": {},
   "source": [
    "##### Liste yapisi ile derste verilen kod ornegi"
   ]
  },
  {
   "cell_type": "code",
   "execution_count": 62,
   "metadata": {},
   "outputs": [],
   "source": [
    "def frequency_with_list_lec (list):\n",
    "    frequency_list = []\n",
    "    for i in range (len(list)):\n",
    "        s = False\n",
    "        for j in range (len(frequency_list)):\n",
    "            if list[i] == frequency_list[j][0] :\n",
    "                frequency_list[j][1] += 1\n",
    "                s = True\n",
    "        if not s :\n",
    "            frequency_list.append([list[i],1])\n",
    "    return frequency_list"
   ]
  },
  {
   "cell_type": "code",
   "execution_count": 63,
   "metadata": {},
   "outputs": [
    {
     "name": "stdout",
     "output_type": "stream",
     "text": [
      "[[2, 2], [3, 2], [4, 2], [5, 2], [66, 3], [75, 5], [6, 1], [7, 2], [8, 1], [0, 1]]\n"
     ]
    }
   ],
   "source": [
    "print(frequency_with_list_lec(list))"
   ]
  },
  {
   "cell_type": "code",
   "execution_count": null,
   "metadata": {},
   "outputs": [],
   "source": []
  }
 ],
 "metadata": {
  "kernelspec": {
   "display_name": "Python 3",
   "language": "python",
   "name": "python3"
  },
  "language_info": {
   "codemirror_mode": {
    "name": "ipython",
    "version": 3
   },
   "file_extension": ".py",
   "mimetype": "text/x-python",
   "name": "python",
   "nbconvert_exporter": "python",
   "pygments_lexer": "ipython3",
   "version": "3.6.8"
  }
 },
 "nbformat": 4,
 "nbformat_minor": 2
}
