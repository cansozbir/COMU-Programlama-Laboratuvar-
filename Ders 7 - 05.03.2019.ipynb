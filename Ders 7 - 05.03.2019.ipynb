{
 "cells": [
  {
   "cell_type": "markdown",
   "metadata": {},
   "source": [
    "# Determinant hesabi"
   ]
  },
  {
   "cell_type": "code",
   "execution_count": 1,
   "metadata": {},
   "outputs": [],
   "source": [
    "matrix1 = [[1,2],[3,4]] # det = -2\n",
    "matrix2 = [[5,7,8],[9,11,12],[13,15,16]] # det = 0\n",
    "matrix3 = [[13,2,3,4],[5,6,7,8],[92,10,31,42],[13,134,15,16]] #det = 25440"
   ]
  },
  {
   "cell_type": "markdown",
   "metadata": {},
   "source": [
    "##### 2x2 lik bir matrisin determinanti"
   ]
  },
  {
   "cell_type": "code",
   "execution_count": 2,
   "metadata": {},
   "outputs": [],
   "source": [
    "def det_from_2_by_2(matrix):\n",
    "    return matrix[0][0]* matrix[1][1] - matrix[0][1]*matrix[1][0]"
   ]
  },
  {
   "cell_type": "code",
   "execution_count": 3,
   "metadata": {
    "scrolled": false
   },
   "outputs": [
    {
     "data": {
      "text/plain": [
       "-2"
      ]
     },
     "execution_count": 3,
     "metadata": {},
     "output_type": "execute_result"
    }
   ],
   "source": [
    "det_from_2_by_2(matrix1)"
   ]
  },
  {
   "cell_type": "markdown",
   "metadata": {},
   "source": [
    "##### 3x3 luk bir matrisin determinanti"
   ]
  },
  {
   "cell_type": "code",
   "execution_count": 4,
   "metadata": {},
   "outputs": [],
   "source": [
    "def delete_row_col_from_matrix(matrix,m,n):\n",
    "    result = []\n",
    "    for i in range (len(matrix)):\n",
    "        if i == m:\n",
    "            continue\n",
    "        row = []\n",
    "        for j in range (len(matrix[i])):\n",
    "            if j == n:\n",
    "                continue\n",
    "            row.append(matrix[i][j])\n",
    "        result.append(row)\n",
    "    return result"
   ]
  },
  {
   "cell_type": "code",
   "execution_count": 5,
   "metadata": {},
   "outputs": [],
   "source": [
    "def determinant_3x3 (matrix):\n",
    "    sum = 0\n",
    "    for i in range (len(matrix)):\n",
    "        det = matrix[0][i] * det_from_2_by_2(delete_row_col_from_matrix(matrix,0,i))\n",
    "        if i%2 == 0 :\n",
    "            sum += det\n",
    "        else:\n",
    "            sum -= det\n",
    "    return sum"
   ]
  },
  {
   "cell_type": "code",
   "execution_count": 6,
   "metadata": {
    "scrolled": false
   },
   "outputs": [
    {
     "data": {
      "text/plain": [
       "0"
      ]
     },
     "execution_count": 6,
     "metadata": {},
     "output_type": "execute_result"
    }
   ],
   "source": [
    "determinant_3x3(matrix2)"
   ]
  },
  {
   "cell_type": "markdown",
   "metadata": {},
   "source": [
    "##### 4x4 luk bir matrisin determinanti"
   ]
  },
  {
   "cell_type": "code",
   "execution_count": 7,
   "metadata": {},
   "outputs": [],
   "source": [
    "def determinant_4x4 (matrix):\n",
    "    sum = 0\n",
    "    for i in range (len(matrix)):\n",
    "        det = matrix[0][i] * determinant_3x3(delete_row_col_from_matrix(matrix,0,i))\n",
    "        if i%2 == 0 :\n",
    "            sum += det\n",
    "        else:\n",
    "            sum -= det\n",
    "    return sum"
   ]
  },
  {
   "cell_type": "code",
   "execution_count": 8,
   "metadata": {},
   "outputs": [
    {
     "data": {
      "text/plain": [
       "25440"
      ]
     },
     "execution_count": 8,
     "metadata": {},
     "output_type": "execute_result"
    }
   ],
   "source": [
    "determinant_4x4(matrix3)"
   ]
  }
 ],
 "metadata": {
  "kernelspec": {
   "display_name": "Python 3",
   "language": "python",
   "name": "python3"
  },
  "language_info": {
   "codemirror_mode": {
    "name": "ipython",
    "version": 3
   },
   "file_extension": ".py",
   "mimetype": "text/x-python",
   "name": "python",
   "nbconvert_exporter": "python",
   "pygments_lexer": "ipython3",
   "version": "3.6.8"
  }
 },
 "nbformat": 4,
 "nbformat_minor": 2
}
