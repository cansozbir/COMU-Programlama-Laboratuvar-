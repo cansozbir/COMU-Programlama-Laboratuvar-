{
 "cells": [
  {
   "cell_type": "markdown",
   "metadata": {},
   "source": [
    "# Vektor islemleri"
   ]
  },
  {
   "cell_type": "code",
   "execution_count": 4,
   "metadata": {},
   "outputs": [],
   "source": [
    "def my_vector_addition (v,w):\n",
    "    size = len(v)\n",
    "    my_result = []\n",
    "    for i in range (size):\n",
    "        my_result.append(v[i]+w[i])\n",
    "    return my_result"
   ]
  },
  {
   "cell_type": "code",
   "execution_count": 3,
   "metadata": {},
   "outputs": [],
   "source": [
    "def my_vector_substraction (v,w):\n",
    "    size = len(v)\n",
    "    my_result = []\n",
    "    for i in range (size):\n",
    "        my_result.append(v[i]-w[i])\n",
    "    return my_result"
   ]
  },
  {
   "cell_type": "code",
   "execution_count": 1,
   "metadata": {},
   "outputs": [],
   "source": [
    "def my_vectors_inner_product (v,w):\n",
    "    size = len(v)\n",
    "    my_result = []\n",
    "    for i in range (size):\n",
    "        my_result.append(0)\n",
    "    for i in range (size):\n",
    "        my_result[i] = v[i]*w[i]\n",
    "    t=0\n",
    "    for i in range(size):\n",
    "        t = t+my_result[i]\n",
    "    return t"
   ]
  },
  {
   "cell_type": "code",
   "execution_count": 2,
   "metadata": {},
   "outputs": [],
   "source": [
    "def my_vector_scalar_product (alpha,v):\n",
    "    size=len(v)\n",
    "    my_result = []\n",
    "    for i in range (size):\n",
    "        my_result.append(alpha * v[i])\n",
    "    return my_result"
   ]
  }
 ],
 "metadata": {
  "kernelspec": {
   "display_name": "Python 3",
   "language": "python",
   "name": "python3"
  },
  "language_info": {
   "codemirror_mode": {
    "name": "ipython",
    "version": 3
   },
   "file_extension": ".py",
   "mimetype": "text/x-python",
   "name": "python",
   "nbconvert_exporter": "python",
   "pygments_lexer": "ipython3",
   "version": "3.6.8"
  }
 },
 "nbformat": 4,
 "nbformat_minor": 2
}
