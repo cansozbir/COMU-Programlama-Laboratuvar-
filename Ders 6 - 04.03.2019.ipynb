{
 "cells": [
  {
   "cell_type": "code",
   "execution_count": 1,
   "metadata": {},
   "outputs": [],
   "source": [
    "matrix_1 = [[1,2,3],[4,5,6]]\n",
    "matrix_2 = [[2,4,6],[8,10,12]]\n",
    "matrix_3 = [[1,2,3,4],[3,4,5,6],[5,6,7,8]]"
   ]
  },
  {
   "cell_type": "code",
   "execution_count": 2,
   "metadata": {},
   "outputs": [
    {
     "name": "stdout",
     "output_type": "stream",
     "text": [
      "1 2 3 \n",
      "4 5 6 \n"
     ]
    }
   ],
   "source": [
    "for row in matrix_1:\n",
    "    for element in row :\n",
    "        print(element, end=' ')\n",
    "    print()"
   ]
  },
  {
   "cell_type": "markdown",
   "metadata": {},
   "source": [
    "#### Iki adet matrisi toplayan kodu yaziniz"
   ]
  },
  {
   "cell_type": "code",
   "execution_count": 3,
   "metadata": {},
   "outputs": [],
   "source": [
    "def matrix_addition(matrix1,matrix2):\n",
    "    result = []\n",
    "    for row in range (len(matrix1)):\n",
    "        result.append([])\n",
    "        for column in range (len(matrix1[0])):\n",
    "            result[row].append(matrix1[row][column] + matrix2[row][column])\n",
    "    return result"
   ]
  },
  {
   "cell_type": "code",
   "execution_count": 4,
   "metadata": {},
   "outputs": [
    {
     "data": {
      "text/plain": [
       "[[3, 6, 9], [12, 15, 18]]"
      ]
     },
     "execution_count": 4,
     "metadata": {},
     "output_type": "execute_result"
    }
   ],
   "source": [
    "matrix_addition(matrix_1,matrix_2)"
   ]
  },
  {
   "cell_type": "markdown",
   "metadata": {},
   "source": [
    "#### Iki matrisle cikarma islemi yapan fonksiyon"
   ]
  },
  {
   "cell_type": "code",
   "execution_count": 5,
   "metadata": {},
   "outputs": [],
   "source": [
    "def matrix_substraction(matrix1,matrix2):\n",
    "    result = []\n",
    "    for row in range (len(matrix1)):\n",
    "        result.append([])\n",
    "        for column in range (len(matrix1[row])):\n",
    "            result[row].append(matrix1[row][column] - matrix2[row][column])\n",
    "    return result"
   ]
  },
  {
   "cell_type": "code",
   "execution_count": 6,
   "metadata": {},
   "outputs": [
    {
     "data": {
      "text/plain": [
       "[[-1, -2, -3], [-4, -5, -6]]"
      ]
     },
     "execution_count": 6,
     "metadata": {},
     "output_type": "execute_result"
    }
   ],
   "source": [
    "matrix_substraction(matrix_1,matrix_2)"
   ]
  },
  {
   "cell_type": "markdown",
   "metadata": {},
   "source": [
    "#### Matrisi skaler olarak carpip geri donduren fonksiyonu yaziniz."
   ]
  },
  {
   "cell_type": "code",
   "execution_count": 7,
   "metadata": {},
   "outputs": [],
   "source": [
    "def matrix_scalar_product(matrix1,alpha):\n",
    "    result=[]\n",
    "    for row in range (len(matrix1)):\n",
    "        result.append([])\n",
    "        for column in range (len(matrix1[row])):\n",
    "            result[row].append(matrix1[row][column]*alpha)\n",
    "    return result"
   ]
  },
  {
   "cell_type": "code",
   "execution_count": 8,
   "metadata": {},
   "outputs": [
    {
     "data": {
      "text/plain": [
       "[[2, 4, 6], [8, 10, 12]]"
      ]
     },
     "execution_count": 8,
     "metadata": {},
     "output_type": "execute_result"
    }
   ],
   "source": [
    "matrix_scalar_product(matrix_1,2)"
   ]
  },
  {
   "cell_type": "markdown",
   "metadata": {},
   "source": [
    "#### Iki matrisi carpip geriye donduren fonksiyonu yaziniz"
   ]
  },
  {
   "cell_type": "code",
   "execution_count": 9,
   "metadata": {},
   "outputs": [],
   "source": [
    "def getColumn (matrix, col):\n",
    "    liste = []\n",
    "    for i in range (len(matrix)):\n",
    "        liste.append(matrix[i][col])\n",
    "    return liste"
   ]
  },
  {
   "cell_type": "code",
   "execution_count": 10,
   "metadata": {},
   "outputs": [
    {
     "data": {
      "text/plain": [
       "[[1, 2, 3], [4, 5, 6]]"
      ]
     },
     "execution_count": 10,
     "metadata": {},
     "output_type": "execute_result"
    }
   ],
   "source": [
    "matrix_1"
   ]
  },
  {
   "cell_type": "code",
   "execution_count": 11,
   "metadata": {},
   "outputs": [
    {
     "data": {
      "text/plain": [
       "[2, 5]"
      ]
     },
     "execution_count": 11,
     "metadata": {},
     "output_type": "execute_result"
    }
   ],
   "source": [
    "getColumn(matrix_1,1)"
   ]
  },
  {
   "cell_type": "code",
   "execution_count": 12,
   "metadata": {},
   "outputs": [],
   "source": [
    "def my_vectors_inner_product (v,w):\n",
    "    size = len(v)\n",
    "    my_result = []\n",
    "    for i in range (size):\n",
    "        my_result.append(0)\n",
    "    for i in range (size):\n",
    "        my_result[i] = v[i]*w[i]\n",
    "    t=0\n",
    "    for i in range(size):\n",
    "        t = t+my_result[i]\n",
    "    return t"
   ]
  },
  {
   "cell_type": "code",
   "execution_count": 15,
   "metadata": {},
   "outputs": [],
   "source": [
    "def multiply_matrix(matrix1,matrix2):\n",
    "    result = []\n",
    "    for row in range (len(matrix1)):\n",
    "        result.append([])\n",
    "        for column in range (len(matrix2[row])):\n",
    "            tempMatrix = my_vectors_inner_product(matrix1[row],getColumn(matrix2,column))\n",
    "            result[row].append(tempMatrix)\n",
    "    return result\n",
    "            "
   ]
  },
  {
   "cell_type": "code",
   "execution_count": 16,
   "metadata": {
    "scrolled": true
   },
   "outputs": [
    {
     "data": {
      "text/plain": [
       "[[22, 28, 34, 40], [49, 64, 79, 94]]"
      ]
     },
     "execution_count": 16,
     "metadata": {},
     "output_type": "execute_result"
    }
   ],
   "source": [
    "multiply_matrix(matrix_1, matrix_3)"
   ]
  },
  {
   "cell_type": "code",
   "execution_count": null,
   "metadata": {},
   "outputs": [],
   "source": []
  }
 ],
 "metadata": {
  "kernelspec": {
   "display_name": "Python 3",
   "language": "python",
   "name": "python3"
  },
  "language_info": {
   "codemirror_mode": {
    "name": "ipython",
    "version": 3
   },
   "file_extension": ".py",
   "mimetype": "text/x-python",
   "name": "python",
   "nbconvert_exporter": "python",
   "pygments_lexer": "ipython3",
   "version": "3.6.8"
  }
 },
 "nbformat": 4,
 "nbformat_minor": 2
}
