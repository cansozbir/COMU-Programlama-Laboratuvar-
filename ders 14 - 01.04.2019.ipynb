{
 "cells": [
  {
   "cell_type": "code",
   "execution_count": 1,
   "metadata": {},
   "outputs": [],
   "source": [
    "import random"
   ]
  },
  {
   "cell_type": "code",
   "execution_count": 2,
   "metadata": {},
   "outputs": [],
   "source": [
    "class hashtable:\n",
    "    def __init__(self, tablesize):\n",
    "        self.table = [0 for i in range (tablesize)]\n",
    "        self.collusion = 0\n",
    "    def hashFunc(self, x):\n",
    "        return x % len(self.table)\n",
    "    def insert(self, x):\n",
    "        if self.table[self.hashFunc(x)] == 1:\n",
    "            self.collusion += 1\n",
    "            return True\n",
    "        else:\n",
    "            self.table[self.hashFunc(x)] = 1\n",
    "            return False"
   ]
  },
  {
   "cell_type": "code",
   "execution_count": 3,
   "metadata": {},
   "outputs": [],
   "source": [
    "def test(size, numOfInsert):\n",
    "    h = hashtable(size)\n",
    "    for i in range (numOfInsert):\n",
    "        number = random.randint(0,10000)\n",
    "        h.insert(number)\n",
    "    return h.collusion"
   ]
  },
  {
   "cell_type": "code",
   "execution_count": 4,
   "metadata": {},
   "outputs": [
    {
     "data": {
      "text/plain": [
       "5"
      ]
     },
     "execution_count": 4,
     "metadata": {},
     "output_type": "execute_result"
    }
   ],
   "source": [
    "test(203, 50)"
   ]
  }
 ],
 "metadata": {
  "kernelspec": {
   "display_name": "Python 3",
   "language": "python",
   "name": "python3"
  },
  "language_info": {
   "codemirror_mode": {
    "name": "ipython",
    "version": 3
   },
   "file_extension": ".py",
   "mimetype": "text/x-python",
   "name": "python",
   "nbconvert_exporter": "python",
   "pygments_lexer": "ipython3",
   "version": "3.6.8"
  }
 },
 "nbformat": 4,
 "nbformat_minor": 2
}
