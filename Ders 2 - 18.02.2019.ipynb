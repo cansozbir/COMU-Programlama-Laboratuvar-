{
 "cells": [
  {
   "cell_type": "markdown",
   "metadata": {},
   "source": [
    "###### Array ile liste nin farki nedir?\n",
    "    Array'lerin tanimlama esnasinda boyutlari belirlidir ve degisiklik yapilamaz.\n",
    "    Liste yapisinda ise dinamik olarak boyut degisimi yapilmaktadir."
   ]
  },
  {
   "cell_type": "markdown",
   "metadata": {},
   "source": [
    "##### Bubble sort ve selection sort arasindaki hamle miktarinin kiyaslanmasi ve binary search icin kod parcacigi"
   ]
  },
  {
   "cell_type": "code",
   "execution_count": 20,
   "metadata": {},
   "outputs": [],
   "source": [
    "def mySearchSelection (my_array) :\n",
    "    '''\n",
    "    input  : my_arr (liste)\n",
    "    Islev  : Sectigi indexten itibaren olan sayilar arasindaki en buyuk olan sayi ile sectigi indexteki sayi arasinda\n",
    "             swap islemi gerceklestirerek diziyi siraliyor. Bu swap islemi bubble sort'takinin aksine her dongude yalniz\n",
    "             bir defa gerceklestirilerek performans kazanci sagliyor.\n",
    "    output : swap_sayisi\n",
    "    '''\n",
    "    swap_sayisi=0\n",
    "    for i in range (len(my_array)-1 , 0, -1): \n",
    "        positionOfMax = 0\n",
    "        for location in range (1,i+1):\n",
    "            #print(\"location:\",location,\"  i:\",i)\n",
    "            if(my_array[location] > my_array[positionOfMax]):\n",
    "                positionOfMax = location\n",
    "        my_array[location] , my_array[positionOfMax] = my_array[positionOfMax] , my_array[location] #swap\n",
    "        swap_sayisi += 1              \n",
    "    return (\"swap sayisi =\",swap_sayisi)"
   ]
  },
  {
   "cell_type": "code",
   "execution_count": 21,
   "metadata": {},
   "outputs": [],
   "source": [
    "my_arr = [21,12,13,44,25,2,126]"
   ]
  },
  {
   "cell_type": "code",
   "execution_count": 22,
   "metadata": {},
   "outputs": [
    {
     "data": {
      "text/plain": [
       "[2, 12, 13, 21, 25, 44, 126]"
      ]
     },
     "execution_count": 22,
     "metadata": {},
     "output_type": "execute_result"
    }
   ],
   "source": [
    "mySearchSelection(my_arr)\n",
    "my_arr"
   ]
  },
  {
   "cell_type": "code",
   "execution_count": 17,
   "metadata": {},
   "outputs": [],
   "source": [
    "def my_binary_search (arr,item) :\n",
    "    '''\n",
    "    input : array\n",
    "    islev : Siralanmis bir dizi uzerinde binary arama yapan kod parcasi\n",
    "    output: found , midpoint\n",
    "    '''\n",
    "    first = 0\n",
    "    last = len(arr)-1\n",
    "    found = False\n",
    "    step = 0\n",
    "    while first <= last and not found:\n",
    "        step += 1\n",
    "        midpoint = (first+last)//2\n",
    "        if (arr[midpoint] == item):\n",
    "            found=True\n",
    "        else :\n",
    "            if (item < arr[midpoint]):\n",
    "                last = midpoint - 1\n",
    "            else :\n",
    "                first = midpoint +1\n",
    "    print(\"step = \" ,step)\n",
    "    return found , midpoint"
   ]
  },
  {
   "cell_type": "code",
   "execution_count": 19,
   "metadata": {},
   "outputs": [
    {
     "name": "stdout",
     "output_type": "stream",
     "text": [
      "step =  1\n"
     ]
    },
    {
     "data": {
      "text/plain": [
       "(True, 3)"
      ]
     },
     "execution_count": 19,
     "metadata": {},
     "output_type": "execute_result"
    }
   ],
   "source": [
    "my_binary_search(my_arr,21)"
   ]
  }
 ],
 "metadata": {
  "kernelspec": {
   "display_name": "Python 3",
   "language": "python",
   "name": "python3"
  },
  "language_info": {
   "codemirror_mode": {
    "name": "ipython",
    "version": 3
   },
   "file_extension": ".py",
   "mimetype": "text/x-python",
   "name": "python",
   "nbconvert_exporter": "python",
   "pygments_lexer": "ipython3",
   "version": "3.6.8"
  }
 },
 "nbformat": 4,
 "nbformat_minor": 2
}
